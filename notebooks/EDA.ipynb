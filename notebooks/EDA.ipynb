{
 "cells": [
  {
   "cell_type": "markdown",
   "metadata": {},
   "source": [
    "# Home assignment - Tomato allergies - EDA"
   ]
  },
  {
   "cell_type": "code",
   "execution_count": 1,
   "metadata": {},
   "outputs": [],
   "source": [
    "from collections import Counter\n",
    "import json\n",
    "import pandas as pd"
   ]
  },
  {
   "cell_type": "markdown",
   "metadata": {},
   "source": [
    "## Data loading"
   ]
  },
  {
   "cell_type": "code",
   "execution_count": 2,
   "metadata": {},
   "outputs": [],
   "source": [
    "mapping = pd.read_csv(\"../dataset/label_mapping.csv\")"
   ]
  },
  {
   "cell_type": "code",
   "execution_count": 3,
   "metadata": {},
   "outputs": [],
   "source": [
    "with open(\"../dataset/img_annotations.json\") as f:\n",
    "    annot = json.load(f)"
   ]
  },
  {
   "cell_type": "markdown",
   "metadata": {},
   "source": [
    "## Data distribution"
   ]
  },
  {
   "cell_type": "code",
   "execution_count": 4,
   "metadata": {},
   "outputs": [
    {
     "data": {
      "text/html": [
       "<div>\n",
       "<style scoped>\n",
       "    .dataframe tbody tr th:only-of-type {\n",
       "        vertical-align: middle;\n",
       "    }\n",
       "\n",
       "    .dataframe tbody tr th {\n",
       "        vertical-align: top;\n",
       "    }\n",
       "\n",
       "    .dataframe thead th {\n",
       "        text-align: right;\n",
       "    }\n",
       "</style>\n",
       "<table border=\"1\" class=\"dataframe\">\n",
       "  <thead>\n",
       "    <tr style=\"text-align: right;\">\n",
       "      <th></th>\n",
       "      <th>labelling_id</th>\n",
       "      <th>labelling_name_fr</th>\n",
       "      <th>labelling_name_en</th>\n",
       "    </tr>\n",
       "  </thead>\n",
       "  <tbody>\n",
       "    <tr>\n",
       "      <th>136</th>\n",
       "      <td>513535c5382eebf51dca54b46d570fe5_lab</td>\n",
       "      <td>Verre de Jus de tomate</td>\n",
       "      <td>Tomato juice</td>\n",
       "    </tr>\n",
       "    <tr>\n",
       "      <th>526</th>\n",
       "      <td>939030726152341c154ba28629341da6_lab</td>\n",
       "      <td>Tomates (coupées)</td>\n",
       "      <td>Tomatoes</td>\n",
       "    </tr>\n",
       "    <tr>\n",
       "      <th>527</th>\n",
       "      <td>9f2c42629209f86b2d5fbe152eb54803_lab</td>\n",
       "      <td>Tomates cerises</td>\n",
       "      <td>Cherry tomatoes</td>\n",
       "    </tr>\n",
       "    <tr>\n",
       "      <th>528</th>\n",
       "      <td>4e884654d97603dedb7e3bd8991335d0_lab</td>\n",
       "      <td>Tomates (entières)</td>\n",
       "      <td>Tomatoe whole</td>\n",
       "    </tr>\n",
       "    <tr>\n",
       "      <th>539</th>\n",
       "      <td>f3c12eecb7abc706b032ad9a387e6f01_lab</td>\n",
       "      <td>Tomate à la provençale</td>\n",
       "      <td>Stuffed Tomatoes</td>\n",
       "    </tr>\n",
       "    <tr>\n",
       "      <th>540</th>\n",
       "      <td>e306505b150e000f5e1b4f377ad688a0_lab</td>\n",
       "      <td>Tomate farcie</td>\n",
       "      <td>Stuffed tomatoes</td>\n",
       "    </tr>\n",
       "    <tr>\n",
       "      <th>640</th>\n",
       "      <td>5816e75b36aa2708f126fe22abeda6ed_lab</td>\n",
       "      <td>Raviolis sauce tomate</td>\n",
       "      <td>Ravioli with tomato sauce</td>\n",
       "    </tr>\n",
       "    <tr>\n",
       "      <th>655</th>\n",
       "      <td>4e2da86105869fc35c947c1b467a7f96_lab</td>\n",
       "      <td>Part de quiche provençale à la tomate</td>\n",
       "      <td>Quiche provence w. tomato</td>\n",
       "    </tr>\n",
       "    <tr>\n",
       "      <th>696</th>\n",
       "      <td>fb9547240ac8bb62713892d7e83e7ce2_lab</td>\n",
       "      <td>Sardines sauce tomate</td>\n",
       "      <td>Sardine tomato sauce</td>\n",
       "    </tr>\n",
       "    <tr>\n",
       "      <th>788</th>\n",
       "      <td>c262e42a627986076c07c4a194946a93_lab</td>\n",
       "      <td>Tomate Mozzarella (Salade Caprese plat complet)</td>\n",
       "      <td>Tomato Mozzarella</td>\n",
       "    </tr>\n",
       "    <tr>\n",
       "      <th>828</th>\n",
       "      <td>a4abc986701f1759315bae54ba51198e_lab</td>\n",
       "      <td>Sauce tomate (à part)</td>\n",
       "      <td>Tomato sauce</td>\n",
       "    </tr>\n",
       "    <tr>\n",
       "      <th>831</th>\n",
       "      <td>9de66567ece99ca7265921bf54cc6b9f_lab</td>\n",
       "      <td>Tomates séchées</td>\n",
       "      <td>Dried tomatoes</td>\n",
       "    </tr>\n",
       "    <tr>\n",
       "      <th>840</th>\n",
       "      <td>7381c4a68441e0a72ab8c4783b5c1068_lab</td>\n",
       "      <td>Soupe à la tomate</td>\n",
       "      <td>Tomato soup</td>\n",
       "    </tr>\n",
       "  </tbody>\n",
       "</table>\n",
       "</div>"
      ],
      "text/plain": [
       "                             labelling_id  \\\n",
       "136  513535c5382eebf51dca54b46d570fe5_lab   \n",
       "526  939030726152341c154ba28629341da6_lab   \n",
       "527  9f2c42629209f86b2d5fbe152eb54803_lab   \n",
       "528  4e884654d97603dedb7e3bd8991335d0_lab   \n",
       "539  f3c12eecb7abc706b032ad9a387e6f01_lab   \n",
       "540  e306505b150e000f5e1b4f377ad688a0_lab   \n",
       "640  5816e75b36aa2708f126fe22abeda6ed_lab   \n",
       "655  4e2da86105869fc35c947c1b467a7f96_lab   \n",
       "696  fb9547240ac8bb62713892d7e83e7ce2_lab   \n",
       "788  c262e42a627986076c07c4a194946a93_lab   \n",
       "828  a4abc986701f1759315bae54ba51198e_lab   \n",
       "831  9de66567ece99ca7265921bf54cc6b9f_lab   \n",
       "840  7381c4a68441e0a72ab8c4783b5c1068_lab   \n",
       "\n",
       "                                   labelling_name_fr  \\\n",
       "136                           Verre de Jus de tomate   \n",
       "526                                Tomates (coupées)   \n",
       "527                                  Tomates cerises   \n",
       "528                               Tomates (entières)   \n",
       "539                           Tomate à la provençale   \n",
       "540                                    Tomate farcie   \n",
       "640                            Raviolis sauce tomate   \n",
       "655            Part de quiche provençale à la tomate   \n",
       "696                            Sardines sauce tomate   \n",
       "788  Tomate Mozzarella (Salade Caprese plat complet)   \n",
       "828                            Sauce tomate (à part)   \n",
       "831                                  Tomates séchées   \n",
       "840                                Soupe à la tomate   \n",
       "\n",
       "             labelling_name_en  \n",
       "136               Tomato juice  \n",
       "526                   Tomatoes  \n",
       "527            Cherry tomatoes  \n",
       "528              Tomatoe whole  \n",
       "539           Stuffed Tomatoes  \n",
       "540           Stuffed tomatoes  \n",
       "640  Ravioli with tomato sauce  \n",
       "655  Quiche provence w. tomato  \n",
       "696       Sardine tomato sauce  \n",
       "788          Tomato Mozzarella  \n",
       "828               Tomato sauce  \n",
       "831             Dried tomatoes  \n",
       "840                Tomato soup  "
      ]
     },
     "execution_count": 4,
     "metadata": {},
     "output_type": "execute_result"
    }
   ],
   "source": [
    "mapping[['tomato' in item.lower() for item in mapping.labelling_name_en]]"
   ]
  },
  {
   "cell_type": "markdown",
   "metadata": {},
   "source": [
    "Out of the 994 recognized labels, we have at least 13 that are of interest to us. They directly mention 'tomato' in their name - this may not be all the ingredients/dishes that include tomatoes but we can clearly see here that we shouldn't restrict ourselves to using `939030726152341c154ba28629341da6_lab`: in the context of a tomato allergy, we'd want to track down all derivatives as well, such as tomato sauce.\n",
    "\n",
    "Let's save the IDs of all suspected tomato-related ingredients:"
   ]
  },
  {
   "cell_type": "code",
   "execution_count": 5,
   "metadata": {},
   "outputs": [],
   "source": [
    "tomatoes = mapping[['tomato' in item.lower() for item in mapping.labelling_name_en]]['labelling_id'].to_list()"
   ]
  },
  {
   "cell_type": "markdown",
   "metadata": {},
   "source": [
    "Now let's consider our annotations. Their format is the following (for each image):"
   ]
  },
  {
   "cell_type": "code",
   "execution_count": 6,
   "metadata": {},
   "outputs": [
    {
     "data": {
      "text/plain": [
       "('ec2f4cece94a8b249c97277951d71396.jpeg',\n",
       " [{'box': [32, 54, 525, 541],\n",
       "   'id': '939030726152341c154ba28629341da6_lab',\n",
       "   'is_background': False},\n",
       "  {'box': [140, 209, 175, 125],\n",
       "   'id': '807c6457c23082f3b0a260984df7f8c5_lab',\n",
       "   'is_background': False},\n",
       "  {'box': [365, 281, 93, 105],\n",
       "   'id': '807c6457c23082f3b0a260984df7f8c5_lab',\n",
       "   'is_background': False},\n",
       "  {'box': [263, 109, 108, 109],\n",
       "   'id': '807c6457c23082f3b0a260984df7f8c5_lab',\n",
       "   'is_background': False},\n",
       "  {'box': [0, 0, 599, 64], 'id': 'main_lab', 'is_background': True}])"
      ]
     },
     "execution_count": 6,
     "metadata": {},
     "output_type": "execute_result"
    }
   ],
   "source": [
    "list(annot.items())[0]"
   ]
  },
  {
   "cell_type": "markdown",
   "metadata": {},
   "source": [
    "A quick operation allows us to find 737 tomato-related ingredients across all 3000 photos:"
   ]
  },
  {
   "cell_type": "code",
   "execution_count": 7,
   "metadata": {},
   "outputs": [
    {
     "data": {
      "text/plain": [
       "737"
      ]
     },
     "execution_count": 7,
     "metadata": {},
     "output_type": "execute_result"
    }
   ],
   "source": [
    "len([item['id'] for img, info in annot.items() for item in info if item['id'] in tomatoes])"
   ]
  },
  {
   "cell_type": "markdown",
   "metadata": {},
   "source": [
    "A photo may include a dish that contains multiple counts and/or types of tomato-related ingredients.  \n",
    "What's going to be important here, even more so if we reduce the problem to a classification one where we collapse the information about tomatoes as being \"is there *ANY* tomato in this photo?\" (not how many/where), is the number of photos that contain 1 or more tomato-related ingredients.\n",
    "\n",
    "We first group this information per image:"
   ]
  },
  {
   "cell_type": "code",
   "execution_count": 8,
   "metadata": {},
   "outputs": [],
   "source": [
    "tomatoes_per_img = Counter([img for img, info in annot.items() for item in info if item['id'] in tomatoes])\n",
    "tomatoes_per_img_df = pd.DataFrame.from_dict(tomatoes_per_img, orient='index')"
   ]
  },
  {
   "cell_type": "code",
   "execution_count": 9,
   "metadata": {},
   "outputs": [
    {
     "data": {
      "text/html": [
       "<div>\n",
       "<style scoped>\n",
       "    .dataframe tbody tr th:only-of-type {\n",
       "        vertical-align: middle;\n",
       "    }\n",
       "\n",
       "    .dataframe tbody tr th {\n",
       "        vertical-align: top;\n",
       "    }\n",
       "\n",
       "    .dataframe thead th {\n",
       "        text-align: right;\n",
       "    }\n",
       "</style>\n",
       "<table border=\"1\" class=\"dataframe\">\n",
       "  <thead>\n",
       "    <tr style=\"text-align: right;\">\n",
       "      <th></th>\n",
       "      <th>0</th>\n",
       "    </tr>\n",
       "  </thead>\n",
       "  <tbody>\n",
       "    <tr>\n",
       "      <th>ec2f4cece94a8b249c97277951d71396.jpeg</th>\n",
       "      <td>1</td>\n",
       "    </tr>\n",
       "    <tr>\n",
       "      <th>83590b62bcb71a17bf0fa8d5af941eb3.jpeg</th>\n",
       "      <td>2</td>\n",
       "    </tr>\n",
       "    <tr>\n",
       "      <th>4fc88151232cab1b03bfa0d47895a2cb.jpeg</th>\n",
       "      <td>1</td>\n",
       "    </tr>\n",
       "    <tr>\n",
       "      <th>b01a2555bee8b6a55d70a413d17d0779.jpeg</th>\n",
       "      <td>3</td>\n",
       "    </tr>\n",
       "    <tr>\n",
       "      <th>0f92168eaab8fd44a02b74ad0f0972a8.jpeg</th>\n",
       "      <td>1</td>\n",
       "    </tr>\n",
       "  </tbody>\n",
       "</table>\n",
       "</div>"
      ],
      "text/plain": [
       "                                       0\n",
       "ec2f4cece94a8b249c97277951d71396.jpeg  1\n",
       "83590b62bcb71a17bf0fa8d5af941eb3.jpeg  2\n",
       "4fc88151232cab1b03bfa0d47895a2cb.jpeg  1\n",
       "b01a2555bee8b6a55d70a413d17d0779.jpeg  3\n",
       "0f92168eaab8fd44a02b74ad0f0972a8.jpeg  1"
      ]
     },
     "execution_count": 9,
     "metadata": {},
     "output_type": "execute_result"
    }
   ],
   "source": [
    "tomatoes_per_img_df.head()"
   ]
  },
  {
   "cell_type": "code",
   "execution_count": 10,
   "metadata": {},
   "outputs": [
    {
     "data": {
      "text/html": [
       "<div>\n",
       "<style scoped>\n",
       "    .dataframe tbody tr th:only-of-type {\n",
       "        vertical-align: middle;\n",
       "    }\n",
       "\n",
       "    .dataframe tbody tr th {\n",
       "        vertical-align: top;\n",
       "    }\n",
       "\n",
       "    .dataframe thead th {\n",
       "        text-align: right;\n",
       "    }\n",
       "</style>\n",
       "<table border=\"1\" class=\"dataframe\">\n",
       "  <thead>\n",
       "    <tr style=\"text-align: right;\">\n",
       "      <th></th>\n",
       "      <th>0</th>\n",
       "    </tr>\n",
       "  </thead>\n",
       "  <tbody>\n",
       "    <tr>\n",
       "      <th>count</th>\n",
       "      <td>534.000000</td>\n",
       "    </tr>\n",
       "    <tr>\n",
       "      <th>mean</th>\n",
       "      <td>1.380150</td>\n",
       "    </tr>\n",
       "    <tr>\n",
       "      <th>std</th>\n",
       "      <td>0.881145</td>\n",
       "    </tr>\n",
       "    <tr>\n",
       "      <th>min</th>\n",
       "      <td>1.000000</td>\n",
       "    </tr>\n",
       "    <tr>\n",
       "      <th>25%</th>\n",
       "      <td>1.000000</td>\n",
       "    </tr>\n",
       "    <tr>\n",
       "      <th>50%</th>\n",
       "      <td>1.000000</td>\n",
       "    </tr>\n",
       "    <tr>\n",
       "      <th>75%</th>\n",
       "      <td>1.000000</td>\n",
       "    </tr>\n",
       "    <tr>\n",
       "      <th>max</th>\n",
       "      <td>7.000000</td>\n",
       "    </tr>\n",
       "  </tbody>\n",
       "</table>\n",
       "</div>"
      ],
      "text/plain": [
       "                0\n",
       "count  534.000000\n",
       "mean     1.380150\n",
       "std      0.881145\n",
       "min      1.000000\n",
       "25%      1.000000\n",
       "50%      1.000000\n",
       "75%      1.000000\n",
       "max      7.000000"
      ]
     },
     "execution_count": 10,
     "metadata": {},
     "output_type": "execute_result"
    }
   ],
   "source": [
    "tomatoes_per_img_df.describe()"
   ]
  },
  {
   "cell_type": "markdown",
   "metadata": {},
   "source": [
    "We ultimately find that there are 534 photos (out of 3000) that contain tomato-related ingredients.\n",
    "\n",
    "This does not make it a \"*rare*\" event, but it is small engough to carefuly consider how we're going to split this dataset to take into consideration the class imbalance."
   ]
  }
 ],
 "metadata": {
  "kernelspec": {
   "display_name": "Python 3.7.6 64-bit",
   "language": "python",
   "name": "python37664bitb1903522b98c4a8baee506bed05dc78d"
  },
  "language_info": {
   "codemirror_mode": {
    "name": "ipython",
    "version": 3
   },
   "file_extension": ".py",
   "mimetype": "text/x-python",
   "name": "python",
   "nbconvert_exporter": "python",
   "pygments_lexer": "ipython3",
   "version": "3.7.6"
  }
 },
 "nbformat": 4,
 "nbformat_minor": 4
}
